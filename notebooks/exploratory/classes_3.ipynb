{
 "cells": [
  {
   "cell_type": "markdown",
   "id": "76ed93a6-9f97-43f9-aa05-4bb08ac2fa49",
   "metadata": {},
   "source": [
    "# Classes Round Three\n",
    "\n",
    "Each data point is a class instance.\n",
    "\n",
    "- add get period, get only period to base class\n",
    "- do cum sum stuff"
   ]
  },
  {
   "cell_type": "code",
   "execution_count": 1,
   "id": "b6c01cc0-e7f5-4976-8aaf-f4d3c26aa615",
   "metadata": {},
   "outputs": [],
   "source": [
    "# Import statements\n",
    "import pandas as pd\n",
    "import os\n",
    "import datetime as dt\n",
    "import seaborn as sns\n",
    "from matplotlib import pyplot as plt\n",
    "import matplotlib.ticker as ticker\n",
    "from matplotlib.ticker import AutoLocator\n",
    "from itertools import product\n",
    "import numpy as np\n",
    "import csv\n",
    "\n",
    "# Directories for reading and writing data\n",
    "thedir = os.getcwd()\n",
    "writedir = os.path.abspath(os.path.join(os.path.dirname(thedir), '..', 'data/interim'))\n",
    "extdir = os.path.abspath(os.path.join(os.path.dirname(thedir), '..', 'data/external'))\n",
    "figdir = os.path.abspath(os.path.join(os.path.dirname(thedir), '..', 'figures'))\n",
    "\n",
    "# load data (reference data set of lcd and aws stations from 2018)\n",
    "data_test = pd.read_csv(F'{extdir}/ref_2018.csv')\n",
    "data_ = data_test[['Date_time_CET','BOLL_LCD_TEMP',\n",
    "       'BOLL_AWS_TEMP', 'BOLL_PRECIP', 'BOLL_RADIATION_GLOBAL',\n",
    "       'BOLL_WIND_SPEED_mean', 'ZOLL_STEVENSON_LCD_TEMP', 'ZOLL_2m_LCD_TEMP',\n",
    "       'ZOLL_3m_LCD_TEMP', 'ZOLL_AWS_TEMP', 'ZOLL_RADIATION_GLOBAL',\n",
    "       'ZOLL_SUNSHINE', 'ZOLL_PRECIP', 'ZOLL_WIND_SPEED_MEAN', 'AFU_LCD_TEMP',\n",
    "       'AFU_AWS_TEMP', 'AFU_WIND_SPEED_MEAN', 'AFU_RADIATION_GLOBAL']]\n",
    "data_.set_index('Date_time_CET',inplace=True)"
   ]
  },
  {
   "cell_type": "code",
   "execution_count": 2,
   "id": "cd093c80-9618-42d3-befe-449868fd9d5f",
   "metadata": {},
   "outputs": [],
   "source": [
    "class Thing:\n",
    "    def __init__(self, value, index, header):\n",
    "        self.name = header\n",
    "        self.time = dt.datetime.strptime(index,'%d.%m.%Y %H:%M')\n",
    "        self.value = value\n",
    "        self.station = header[:3].lower()\n",
    "        if 'LCD' in header:\n",
    "            self.stype = 'lcd'\n",
    "        else:\n",
    "            self.stype = 'aws'\n",
    "        if 'TEMP' in header:\n",
    "            self.qty = 'temp'\n",
    "        elif 'SUN':\n",
    "            self.qty = 'sun'\n",
    "        elif 'RADI':\n",
    "            self.qty = 'rad'\n",
    "        elif 'WIND':\n",
    "            self.qty = 'wind'\n",
    "        elif 'PREC':\n",
    "            self.qty = 'prec'\n",
    "    \n",
    "    def __lt__(self, other):\n",
    "         return self.time < other.time\n",
    "    \n",
    "    #def time_date(self):\n",
    "    #    return dt.datetime.strptime(self.time,'%d.%m.%Y %H:%M')\n",
    "    \n",
    "    def get_period(self, strfkey):\n",
    "        return dt.datetime.strftime(self.time,strfkey)\n",
    "    \n",
    "    def update_value(self,value):\n",
    "        self.value = value\n",
    "    \n",
    "    def return_name(self):\n",
    "        return self.name\n",
    "    \n",
    "    def return_value(self):\n",
    "        return self.value\n",
    "    \n",
    "    def return_station(self):\n",
    "        return self.station\n",
    "    \n",
    "    def return_time(self):\n",
    "        return self.time\n",
    "    \n",
    "    def return_qty(self):\n",
    "        return self.qty\n",
    "    \n",
    "    "
   ]
  },
  {
   "cell_type": "code",
   "execution_count": 3,
   "id": "3d85e40c-4191-4ed3-97ba-c95e26e673b7",
   "metadata": {},
   "outputs": [],
   "source": [
    "cols = data_.columns\n",
    "mylist = []\n",
    "for index,rows in data_.iterrows():\n",
    "        mylist.append([Thing(data_.at[index,index_c],index,index_c) for index_c in cols])"
   ]
  },
  {
   "cell_type": "code",
   "execution_count": 4,
   "id": "130f76d4-fa3b-41b0-98f9-f2feab777689",
   "metadata": {},
   "outputs": [],
   "source": [
    "ndf = np.array([ x for y in mylist for x in y])\n",
    "get_quant = np.vectorize(lambda x: x.qty,otypes = [object])"
   ]
  },
  {
   "cell_type": "code",
   "execution_count": 6,
   "id": "1582f562-4090-4127-9895-fd2d4e56cf66",
   "metadata": {},
   "outputs": [
    {
     "data": {
      "text/plain": [
       "17712"
      ]
     },
     "execution_count": 6,
     "metadata": {},
     "output_type": "execute_result"
    }
   ],
   "source": [
    "len(mylist)"
   ]
  },
  {
   "cell_type": "code",
   "execution_count": null,
   "id": "a4f77355-c99d-4b24-ad6c-9b2f963e6cd5",
   "metadata": {},
   "outputs": [],
   "source": [
    "\n",
    "period_keys = {'hour':'%H','month':'%m','year':'%Y','day':'%j'}\n",
    "qty = ['temp','wind','rad','sun','prec']\n",
    "station = ['bol','zol','afu']\n",
    "key = period_keys['day']"
   ]
  },
  {
   "cell_type": "code",
   "execution_count": null,
   "id": "fcc44714-45d3-4c0d-ae74-6a55500edc28",
   "metadata": {},
   "outputs": [],
   "source": []
  },
  {
   "cell_type": "code",
   "execution_count": null,
   "id": "7a29671a-9d42-4804-b4ca-4e3bcc9701a6",
   "metadata": {},
   "outputs": [],
   "source": []
  },
  {
   "cell_type": "code",
   "execution_count": null,
   "id": "7a274179-ec4e-4d9c-aa7a-c51f8892d585",
   "metadata": {},
   "outputs": [],
   "source": []
  },
  {
   "cell_type": "markdown",
   "id": "77cbd976-9bdf-4c55-96b6-caed68292627",
   "metadata": {},
   "source": [
    "temp lcd - aws differences"
   ]
  },
  {
   "cell_type": "code",
   "execution_count": null,
   "id": "b4e53e88-a4fd-4ccd-aad3-6e4382f41407",
   "metadata": {},
   "outputs": [],
   "source": [
    "def get_diffs(station_dicts):\n",
    "    newdict = {}\n",
    "    for key,values in station_dict.items():\n",
    "        val = values[0]-values[1]\n",
    "        newdict[key] = [val,values[2]]\n",
    "    return newdict\n",
    "\n",
    "def get_dicts(stations,qty):\n",
    "    tdict = {}\n",
    "    for i in stations:\n",
    "        newdict = {}\n",
    "        lcds = set([x.name for x in ndf if (x.qty == qty) & (x.station == i) & (x.stype == 'lcd')])\n",
    "        num_lcd = len(lcds)\n",
    "        aws = [(x.value,x.time,x.name) for x in ndf if (x.qty == qty) & (x.station == i) & (x.stype == 'aws')] \n",
    "        lcd = [(x.value,x.time,x.name) for x in ndf if (x.qty == qty) & (x.station == i) & (x.stype == 'lcd')]\n",
    "        aws_= aws*num_lcd\n",
    "        total = list(zip(aws_,lcd))\n",
    "        aws = [(x.value,x.time,x.name) for x in ndf if (x.qty == qty) & (x.station == i) & (x.stype == 'aws')] \n",
    "        lcd = [(x.value,x.time,x.name) for x in ndf if (x.qty == qty) & (x.station == i) & (x.stype == 'lcd')]\n",
    "        total = list(zip(aws,lcd))\n",
    "        for j in lcds:\n",
    "            tdict = {}\n",
    "            for k in total:\n",
    "                newdict[k[0][1]] = [k[0][0],k[1][0],j]\n",
    "            holder = [x[0] for x in newdict if j in x.values()]\n",
    "            tdict[j] = holder\n",
    "    return tdict\n",
    "\n",
    "def make_frames(stations,qty):\n",
    "    dicts = get_dicts(stations,qty)\n",
    "    vdicts = get_diffs(dicts)\n",
    "    df = pd.DataFrame.from_dict(vdicts, orient = 'index')\n",
    "    return df"
   ]
  },
  {
   "cell_type": "code",
   "execution_count": null,
   "id": "bf2eba92-daea-4737-b833-d987e9c7db17",
   "metadata": {},
   "outputs": [],
   "source": [
    "test = get_dicts(['bol','zol','afu'],'temp')"
   ]
  },
  {
   "cell_type": "code",
   "execution_count": null,
   "id": "41505ac7-cef3-4a2e-a109-c6e652c5f976",
   "metadata": {},
   "outputs": [],
   "source": [
    "len(test['ZOLL_AWS_TEMP-ZOLL_3m_LCD_TEMP'])"
   ]
  },
  {
   "cell_type": "code",
   "execution_count": null,
   "id": "b198ec44-dd3e-45a4-80bd-fa43a9db445e",
   "metadata": {},
   "outputs": [],
   "source": [
    "test.keys()"
   ]
  },
  {
   "cell_type": "code",
   "execution_count": null,
   "id": "db495ec4-6b67-4292-9a09-95084926f1e2",
   "metadata": {},
   "outputs": [],
   "source": []
  }
 ],
 "metadata": {
  "kernelspec": {
   "display_name": "mas-clas",
   "language": "python",
   "name": "master-class"
  },
  "language_info": {
   "codemirror_mode": {
    "name": "ipython",
    "version": 3
   },
   "file_extension": ".py",
   "mimetype": "text/x-python",
   "name": "python",
   "nbconvert_exporter": "python",
   "pygments_lexer": "ipython3",
   "version": "3.9.12"
  }
 },
 "nbformat": 4,
 "nbformat_minor": 5
}
