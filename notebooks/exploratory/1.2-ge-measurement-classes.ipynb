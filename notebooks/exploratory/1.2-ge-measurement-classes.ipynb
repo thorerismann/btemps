{
 "cells": [
  {
   "cell_type": "code",
   "execution_count": 1,
   "id": "57edc566-ed88-4e94-85f4-448f8c343a58",
   "metadata": {},
   "outputs": [],
   "source": [
    "import pandas as pd\n",
    "import os\n",
    "\n",
    "thedir = os.getcwd()\n",
    "writedir = os.path.abspath(os.path.join(os.path.dirname(thedir), '..', 'data/interim'))\n",
    "extdir = os.path.abspath(os.path.join(os.path.dirname(thedir), '..', 'data/external'))"
   ]
  },
  {
   "cell_type": "code",
   "execution_count": 2,
   "id": "3112ed4e-4a98-4f46-9fd6-958be79ae8d6",
   "metadata": {},
   "outputs": [],
   "source": [
    "\n",
    "maison_blanche_mean = [8.5,10.7,14.3,15.1,17.3,\"nan\",\"nan\"]\n",
    "vogelsang_mean = [10.3,12.2,16.1,\"nan\",\"nan\",14.7,9.4]\n",
    "boezingenmoos_mean = [10.2,12.1,16.1,16.5,17.9,14.5,9.2]\n",
    "maison_min = [-1.2,0.6,6.5,6.2,6.2,3.1,'nan']\n",
    "vogel_min = [0.7,2.5,3.7,8.6,'nan',4.4,0.9]\n",
    "boz_min = [-1.9,0.6,6.5,6.2,6.2,3.1,-0.9]\n",
    "maison_max = [18.9,22.3,25.5,24.4,26.4,20.3,18.4]\n",
    "vogel_max = [21.8,24.3,27.9,27.7,29.6,22.4,20.5]\n",
    "boz_max = [22.1,25.3,29.6,28.6,31.2,24.1,21.8,]\n",
    "\n",
    "attributes_maison = {'project':'archive', 'name':\"maison_blanche\", 'date_range':('1983-04','1983-10'), 'sensor_type':'archive_fixed','city':'Biel', 'coord':(\"584'300\",\"21'600\"), \n",
    "                   'geo_ref':'old swiss - unknown', 'elevation':720,'accuracy':'+/- 0.53', 'resolution':0.14}\n",
    "attributes_log_1 = {'project':'biel-temps', 'name':\"maison_blanche\", 'date_range':None, 'sensor_type':'lcd','city':'Biel', 'coord':(\"2'585'009.153, 1'219'997.855\"), \n",
    "                   'geo_ref':'SwissTopo', 'elevation':432,'accuracy':'+/- 0.53', 'resolution':0.14}\n",
    "attributes_os = {'project':'open-sense', 'name':\"Gumme Brügg\", 'date_range':None, 'sensor_type':'SI','city':'Biel', 'coord':(47.126465,7.285249), \n",
    "                   'geo_ref':'SwissTopo', 'elevation':469,'accuracy':'+/- 0.53', 'resolution':0.14}\n",
    "\n",
    "maison=pd.DataFrame([maison_min,maison_max,maison_blanche_mean],columns = ['apr','may','jun','jul','aug','sep','oct'],index = ['min','max','mean'])\n",
    "vogel=pd.DataFrame([vogel_min,vogel_max,vogelsang_mean],columns = ['apr','may','jun','jul','aug','sep','oct'],index = ['min','max','mean'])\n",
    "boz=pd.DataFrame([boz_min,boz_max,boezingenmoos_mean],columns = ['apr','may','jun','jul','aug','sep','oct'],index = ['min','max','mean'])\n",
    "\n",
    "data_lcd = pd.read_csv(F'{writedir}/alldata.csv')\n",
    "data_ = data_lcd[[\"Log_201\"]].copy()\n",
    "data_os = pd.read_csv(F'{extdir}/opensense-temp.csv')"
   ]
  },
  {
   "cell_type": "code",
   "execution_count": null,
   "id": "1b8ad102-db08-4506-af4a-8373d05886b1",
   "metadata": {},
   "outputs": [],
   "source": []
  },
  {
   "cell_type": "code",
   "execution_count": 3,
   "id": "46b039e7-4374-40ec-acf7-985361e0a9f1",
   "metadata": {},
   "outputs": [],
   "source": [
    "class Sensor():\n",
    "    def __init__(self, data = None,attributes = None):\n",
    "        self.attributes = attributes\n",
    "        self.data = data\n",
    "    def return_att(self):\n",
    "        return self.attributes\n",
    "    def return_data(self):\n",
    "        return self.data\n",
    "\n",
    "class OpenSensor(Sensor):\n",
    "    def __init__(self, data = None,attributes = None):\n",
    "        super().__init__(data,attributes)\n",
    "\n",
    "class ArchiveSensor(Sensor):\n",
    "    def __init__(self, data = None,attributes = None):\n",
    "        super().__init__(data,attributes)\n",
    "\n",
    "class LowCostSensor(Sensor):\n",
    "    def __init__(self, data = None,attributes = None):\n",
    "        super().__init__(data,attributes)"
   ]
  },
  {
   "cell_type": "code",
   "execution_count": 4,
   "id": "21f095c1-d4ca-4ea9-889c-359c7fafda9b",
   "metadata": {},
   "outputs": [],
   "source": [
    "Log_1 = LowCostSensor(data_, attributes_log_1)\n",
    "os_1 = ArchiveSensor(data_os,attributes_os)\n",
    "archive_1 = ArchiveSensor(maison,attributes_maison)"
   ]
  },
  {
   "cell_type": "code",
   "execution_count": 5,
   "id": "416193af-2dcf-40cf-8fa0-cab61201d918",
   "metadata": {},
   "outputs": [
    {
     "data": {
      "text/plain": [
       "{'project': 'biel-temps',\n",
       " 'name': 'maison_blanche',\n",
       " 'date_range': None,\n",
       " 'sensor_type': 'lcd',\n",
       " 'city': 'Biel',\n",
       " 'coord': \"2'585'009.153, 1'219'997.855\",\n",
       " 'geo_ref': 'SwissTopo',\n",
       " 'elevation': 432,\n",
       " 'accuracy': '+/- 0.53',\n",
       " 'resolution': 0.14}"
      ]
     },
     "execution_count": 5,
     "metadata": {},
     "output_type": "execute_result"
    }
   ],
   "source": [
    "Log_1.attributes"
   ]
  },
  {
   "cell_type": "code",
   "execution_count": null,
   "id": "7e1dc15e-641d-46a9-b35b-9f5e151129a8",
   "metadata": {},
   "outputs": [],
   "source": []
  }
 ],
 "metadata": {
  "kernelspec": {
   "display_name": "Python [conda env:flora]",
   "language": "python",
   "name": "conda-env-flora-py"
  },
  "language_info": {
   "codemirror_mode": {
    "name": "ipython",
    "version": 3
   },
   "file_extension": ".py",
   "mimetype": "text/x-python",
   "name": "python",
   "nbconvert_exporter": "python",
   "pygments_lexer": "ipython3",
   "version": "3.10.4"
  }
 },
 "nbformat": 4,
 "nbformat_minor": 5
}
