{
 "cells": [
  {
   "cell_type": "markdown",
   "id": "23c167bc-98c9-4584-80a9-529fa3e03fcd",
   "metadata": {},
   "source": [
    "Exploratory analysis"
   ]
  },
  {
   "cell_type": "code",
   "execution_count": 7,
   "id": "bd107b2f-0f72-43ec-bc24-614795674433",
   "metadata": {},
   "outputs": [],
   "source": [
    "import pandas as pd\n",
    "import os\n",
    "thedir = os.getcwd()\n",
    "datadir = os.path.abspath(os.path.join(os.path.dirname(thedir), '..', 'data/raw'))\n",
    "readdir = os.path.abspath(os.path.join(os.path.dirname(thedir), '..', 'data/intermediate'))"
   ]
  },
  {
   "cell_type": "code",
   "execution_count": 8,
   "id": "75c8026b-f9ab-4439-b1f5-aa9250f49ac0",
   "metadata": {},
   "outputs": [],
   "source": [
    "files = os.listdir(datadir)"
   ]
  },
  {
   "cell_type": "code",
   "execution_count": 9,
   "id": "bf137ce2-c59c-4bc2-b48c-e172f2d4b0a9",
   "metadata": {},
   "outputs": [
    {
     "data": {
      "text/plain": [
       "['Log_204.csv', 'Log_201.csv', 'Log_203.csv', 'Log_202.csv']"
      ]
     },
     "execution_count": 9,
     "metadata": {},
     "output_type": "execute_result"
    }
   ],
   "source": [
    "files"
   ]
  },
  {
   "cell_type": "code",
   "execution_count": 61,
   "id": "14599ae6-83c9-406e-a231-ff2fddd1f816",
   "metadata": {},
   "outputs": [],
   "source": [
    "mylist = []\n",
    "mycol = []\n",
    "for i in files:\n",
    "    mylist.append(pd.read_csv(F\"{datadir}/{i}\", header = 1))\n",
    "    mycol.append(i[:7])"
   ]
  },
  {
   "cell_type": "code",
   "execution_count": 62,
   "id": "dc9fdef3-a0f6-4c4f-ae66-cf9c41455168",
   "metadata": {},
   "outputs": [],
   "source": [
    "c = mylist[0]\n",
    "d = mycol[0]"
   ]
  },
  {
   "cell_type": "code",
   "execution_count": 64,
   "id": "5a259510-529f-4dbf-ae6d-015c3d60b793",
   "metadata": {},
   "outputs": [],
   "source": [
    "c[d] = d"
   ]
  },
  {
   "cell_type": "code",
   "execution_count": 65,
   "id": "f22c37fb-b5a0-4aff-8aac-9688ca6a1b73",
   "metadata": {},
   "outputs": [
    {
     "data": {
      "text/plain": [
       "Index(['#', 'Date Time, GMT+02:00',\n",
       "       'Temp, °C (LGR S/N: 21068247, SEN S/N: 21068247)',\n",
       "       'Coupler Attached (LGR S/N: 21068247)',\n",
       "       'Coupler Detached (LGR S/N: 21068247)',\n",
       "       'Host Connected (LGR S/N: 21068247)', 'Stopped (LGR S/N: 21068247)',\n",
       "       'End Of File (LGR S/N: 21068247)', 'Log_204'],\n",
       "      dtype='object')"
      ]
     },
     "execution_count": 65,
     "metadata": {},
     "output_type": "execute_result"
    }
   ],
   "source": [
    "c.columns"
   ]
  },
  {
   "cell_type": "code",
   "execution_count": 67,
   "id": "0bdc37be-b68e-49ae-9206-9b1efb4ecd12",
   "metadata": {},
   "outputs": [],
   "source": [
    "newcols = [c.columns[0],c.columns[1],c.columns[2]]"
   ]
  },
  {
   "cell_type": "code",
   "execution_count": 72,
   "id": "15adbf49-bd5b-468a-815f-3500bca8180d",
   "metadata": {},
   "outputs": [
    {
     "data": {
      "text/plain": [
       "MultiIndex([(   1, '09/07/22 00:00:00', 18.996,      nan,      nan, ...),\n",
       "            (   2, '09/07/22 00:10:00', 18.806,      nan,      nan, ...),\n",
       "            (   3, '09/07/22 00:20:00', 18.616,      nan,      nan, ...),\n",
       "            (   4, '09/07/22 00:30:00', 18.616,      nan,      nan, ...),\n",
       "            (   5, '09/07/22 00:40:00', 18.426,      nan,      nan, ...),\n",
       "            (   6, '09/07/22 00:50:00', 18.426,      nan,      nan, ...),\n",
       "            (   7, '09/07/22 01:00:00', 18.331,      nan,      nan, ...),\n",
       "            (   8, '09/07/22 01:10:00',  18.14,      nan,      nan, ...),\n",
       "            (   9, '09/07/22 01:20:00',  18.14,      nan,      nan, ...),\n",
       "            (  10, '09/07/22 01:30:00',  17.95,      nan,      nan, ...),\n",
       "            ...\n",
       "            (4808, '11/08/22 09:10:00', 19.567,      nan,      nan, ...),\n",
       "            (4809, '11/08/22 09:20:00', 20.329,      nan,      nan, ...),\n",
       "            (4810, '11/08/22 09:30:00', 20.901,      nan,      nan, ...),\n",
       "            (4811, '11/08/22 09:40:00', 21.378,      nan,      nan, ...),\n",
       "            (4812, '11/08/22 09:50:00', 22.142,      nan,      nan, ...),\n",
       "            (4813, '11/08/22 10:00:00', 23.004,      nan,      nan, ...),\n",
       "            (4814, '11/08/22 10:07:04',    nan, 'Logged',      nan, ...),\n",
       "            (4815, '11/08/22 10:07:08',    nan,      nan, 'Logged', ...),\n",
       "            (4816, '11/08/22 10:07:11',    nan, 'Logged',      nan, ...),\n",
       "            (4817, '11/08/22 10:08:03',    nan,      nan,      nan, ...)],\n",
       "           names=['#', 'Date Time, GMT+02:00', 'Temp, °C (LGR S/N: 21068247, SEN S/N: 21068247)', 'Coupler Attached (LGR S/N: 21068247)', 'Coupler Detached (LGR S/N: 21068247)', 'Host Connected (LGR S/N: 21068247)', 'Stopped (LGR S/N: 21068247)', 'End Of File (LGR S/N: 21068247)', 'Log_204'], length=4817)"
      ]
     },
     "execution_count": 72,
     "metadata": {},
     "output_type": "execute_result"
    }
   ],
   "source": [
    "df_ = pd.MultiIndex.from_frame(c,)\n",
    "df_"
   ]
  },
  {
   "cell_type": "code",
   "execution_count": null,
   "id": "1bcf2a82-0c6e-4578-90b6-debf7becbc9c",
   "metadata": {},
   "outputs": [],
   "source": [
    "mylist = []\n",
    "for i in files:\n",
    "    a = pd.read_csv(F\"{datadir}/{i}\",header =1)\n",
    "    log = i[:7]\n",
    "    a[log] = log\n",
    "    a = a.iloc[:-4,[0,1,2,7]]\n",
    "    mylist.append(a)\n",
    "pd.concat(a).reset_index().set_index(['index', 'log'])\n"
   ]
  },
  {
   "cell_type": "code",
   "execution_count": null,
   "id": "96d564ca-621e-4273-a247-9f5dad863b11",
   "metadata": {},
   "outputs": [],
   "source": []
  },
  {
   "cell_type": "code",
   "execution_count": 56,
   "id": "ccebb12d-50b8-4bb3-a013-579652b1de16",
   "metadata": {},
   "outputs": [
    {
     "name": "stdout",
     "output_type": "stream",
     "text": [
      "('L', '#')\n",
      "('o', 'Date Time, GMT+02:00')\n",
      "('g', 'Temp, °C (LGR S/N: 20350621, SEN S/N: 20350621)')\n"
     ]
    }
   ],
   "source": [
    "df = pd.DataFrame()\n",
    "count = 0\n",
    "for i in files:\n",
    "    a = pd.read_csv(F\"{datadir}/{i}\",header =1)\n",
    "    logger = i[:7]\n",
    "    cols = a.columns\n",
    "    cols = [cols[0],cols[1],cols[2]]\n",
    "    mlm = zip(logger,cols)\n",
    "for i in mlm:\n",
    "    print(i)"
   ]
  },
  {
   "cell_type": "code",
   "execution_count": 44,
   "id": "ea45343f-5635-442d-84a2-a4c4f0bc362f",
   "metadata": {},
   "outputs": [
    {
     "ename": "SyntaxError",
     "evalue": "incomplete input (524530521.py, line 2)",
     "output_type": "error",
     "traceback": [
      "\u001b[0;36m  Input \u001b[0;32mIn [44]\u001b[0;36m\u001b[0m\n\u001b[0;31m    \u001b[0m\n\u001b[0m    ^\u001b[0m\n\u001b[0;31mSyntaxError\u001b[0m\u001b[0;31m:\u001b[0m incomplete input\n"
     ]
    }
   ],
   "source": [
    "for i in files.index:\n",
    "    "
   ]
  },
  {
   "cell_type": "code",
   "execution_count": null,
   "id": "f17be9f4-5f12-4d67-974d-a78905e04ddb",
   "metadata": {},
   "outputs": [],
   "source": []
  }
 ],
 "metadata": {
  "kernelspec": {
   "display_name": "Python [conda env:ma] *",
   "language": "python",
   "name": "conda-env-ma-py"
  },
  "language_info": {
   "codemirror_mode": {
    "name": "ipython",
    "version": 3
   },
   "file_extension": ".py",
   "mimetype": "text/x-python",
   "name": "python",
   "nbconvert_exporter": "python",
   "pygments_lexer": "ipython3",
   "version": "3.10.5"
  }
 },
 "nbformat": 4,
 "nbformat_minor": 5
}
