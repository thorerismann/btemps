{
 "cells": [
  {
   "cell_type": "code",
   "execution_count": null,
   "id": "413999bd-08da-4544-b15d-daaa01deaf84",
   "metadata": {},
   "outputs": [],
   "source": [
    "# compares other data sources, beginning with sensorbox\n",
    "\n",
    "https://familie-hoffmann.me/"
   ]
  }
 ],
 "metadata": {
  "kernelspec": {
   "display_name": "Python [conda env:ma] *",
   "language": "python",
   "name": "conda-env-ma-py"
  },
  "language_info": {
   "codemirror_mode": {
    "name": "ipython",
    "version": 3
   },
   "file_extension": ".py",
   "mimetype": "text/x-python",
   "name": "python",
   "nbconvert_exporter": "python",
   "pygments_lexer": "ipython3",
   "version": "3.10.5"
  }
 },
 "nbformat": 4,
 "nbformat_minor": 5
}
