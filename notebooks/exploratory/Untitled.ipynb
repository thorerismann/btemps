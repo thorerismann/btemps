{
 "cells": [
  {
   "cell_type": "markdown",
   "id": "92828ee8-c1cb-4ac5-8ee4-10348099a86e",
   "metadata": {},
   "source": [
    "# Classes 4 - Data classes round 2"
   ]
  },
  {
   "cell_type": "code",
   "execution_count": 1,
   "id": "ff3217f4-ab43-48e0-9960-3a858898ca31",
   "metadata": {},
   "outputs": [],
   "source": [
    "# Import statements\n",
    "import pandas as pd\n",
    "import os\n",
    "import datetime as dt\n",
    "from datetime import timedelta\n",
    "import seaborn as sns\n",
    "from matplotlib import pyplot as plt\n",
    "import matplotlib.ticker as ticker\n",
    "from matplotlib.ticker import AutoLocator\n",
    "import itertools\n",
    "from itertools import product\n",
    "import numpy as np\n",
    "import csv\n",
    "import operator\n",
    "\n",
    "# Directories for reading and writing data\n",
    "thedir = os.getcwd()\n",
    "writedir = os.path.abspath(os.path.join(os.path.dirname(thedir), '..', 'data/interim'))\n",
    "extdir = os.path.abspath(os.path.join(os.path.dirname(thedir), '..', 'data/external'))\n",
    "figdir = os.path.abspath(os.path.join(os.path.dirname(thedir), '..', 'figures'))\n",
    "\n",
    "# load data (reference data set of lcd and aws stations from 2018)\n",
    "data_test = pd.read_csv(F'{extdir}/ref_2018.csv')\n",
    "data_ = data_test[['Date_time_CET','BOLL_LCD_TEMP',\n",
    "       'BOLL_AWS_TEMP', 'BOLL_PRECIP', 'BOLL_RADIATION_GLOBAL',\n",
    "       'BOLL_WIND_SPEED_mean', 'ZOLL_STEVENSON_LCD_TEMP', 'ZOLL_2m_LCD_TEMP',\n",
    "       'ZOLL_3m_LCD_TEMP', 'ZOLL_AWS_TEMP', 'ZOLL_RADIATION_GLOBAL',\n",
    "       'ZOLL_SUNSHINE', 'ZOLL_PRECIP', 'ZOLL_WIND_SPEED_MEAN', 'AFU_LCD_TEMP',\n",
    "       'AFU_AWS_TEMP', 'AFU_WIND_SPEED_MEAN', 'AFU_RADIATION_GLOBAL']]\n",
    "data_.set_index('Date_time_CET',inplace=True)"
   ]
  },
  {
   "cell_type": "code",
   "execution_count": 2,
   "id": "ebc3b041-24b6-4659-858b-248846875c40",
   "metadata": {},
   "outputs": [],
   "source": [
    "class Thing:\n",
    "    def __init__(self, value, index, header):\n",
    "        self.name = header\n",
    "        self.time = dt.datetime.strptime(index,'%d.%m.%Y %H:%M')\n",
    "        self.value = value\n",
    "        self.station = header[:3].lower()\n",
    "        if 'LCD' in header:\n",
    "            self.stype = 'lcd'\n",
    "        else:\n",
    "            self.stype = 'aws'\n",
    "        if 'TEMP' in header:\n",
    "            self.qty = 'temp'\n",
    "        elif 'SUN':\n",
    "            self.qty = 'sun'\n",
    "        elif 'RADI':\n",
    "            self.qty = 'rad'\n",
    "        elif 'WIND':\n",
    "            self.qty = 'wind'\n",
    "        elif 'PREC':\n",
    "            self.qty = 'prec'\n",
    "    \n",
    "    def get_period(self, strfkey):\n",
    "        return dt.datetime.strftime(self.time,strfkey)\n",
    "    \n",
    "    def update_value(self,value):\n",
    "        self.value = value"
   ]
  },
  {
   "cell_type": "markdown",
   "id": "bca3eac7-3fe5-4ed0-80e6-8207e7747943",
   "metadata": {},
   "source": [
    "## Dictionary\n",
    "Following code defines the variables stored with each data point (except for the values and the time samps!)"
   ]
  },
  {
   "cell_type": "code",
   "execution_count": 3,
   "id": "898f4e2e-c1b6-46cf-99f3-16041cef0812",
   "metadata": {},
   "outputs": [],
   "source": [
    "names = ['BOLL_LCD_TEMP','BOLL_AWS_TEMP', 'BOLL_PRECIP', 'BOLL_RADIATION_GLOBAL','BOLL_WIND_SPEED_mean', 'ZOLL_STEVENSON_LCD_TEMP',\n",
    "         'ZOLL_2m_LCD_TEMP','ZOLL_3m_LCD_TEMP', 'ZOLL_AWS_TEMP', 'ZOLL_RADIATION_GLOBAL','ZOLL_SUNSHINE', 'ZOLL_PRECIP', 'ZOLL_WIND_SPEED_MEAN',\n",
    "         'AFU_LCD_TEMP', 'AFU_AWS_TEMP', 'AFU_WIND_SPEED_MEAN', 'AFU_RADIATION_GLOBAL']\n",
    "period_keys = {'hour':'%H','month':'%m','year':'%Y','day':'%j'}\n",
    "qty = ['temp','wind','rad','sun','prec']\n",
    "station = ['bol','zol','afu']\n",
    "key = period_keys['day']"
   ]
  },
  {
   "cell_type": "markdown",
   "id": "8a844370-4c8e-4a5a-9156-46e851342797",
   "metadata": {},
   "source": [
    "## Create list of objects"
   ]
  },
  {
   "cell_type": "code",
   "execution_count": 4,
   "id": "75d84548-2398-48c9-ae4a-8bcc90f359e4",
   "metadata": {},
   "outputs": [],
   "source": [
    "cols = data_.columns\n",
    "mylist = []\n",
    "for index,rows in data_.iterrows():\n",
    "        mylist.append([Thing(data_.at[index,index_c],index,index_c) for index_c in cols])\n",
    "ad = [x for y in mylist for x in y]\n",
    "ad = sorted(ad, key=operator.attrgetter('time'))\n",
    "times = list(set([x.time for x in ad]))\n",
    "times = sorted(times)"
   ]
  },
  {
   "cell_type": "markdown",
   "id": "a4c38be6-26b8-4f7d-96bc-e69146ab7af2",
   "metadata": {},
   "source": [
    "## Fix incorrect data \n",
    "Bad data is keyed as -9999, following code replaces the bad valeus with the mean from the previous and next hour (excluding any potential bad values that also occur in that hour)."
   ]
  },
  {
   "cell_type": "code",
   "execution_count": 5,
   "id": "737f8def-b274-439b-94aa-11263e91987b",
   "metadata": {},
   "outputs": [],
   "source": [
    "wrong = [x for x in ad if x.value < -50]\n",
    "for i in wrong:\n",
    "    lower = [x.value for x in ad if (x.name == i.name) & (i.time - timedelta(hours=1) < x.time < i.time) & (x.value > -100)]\n",
    "    higher = [x.value for x in ad if (x.name == i.name) & (i.time < x.time < i.time + timedelta(hours=1)) & (x.value > -100)]\n",
    "    new_val = (sum(lower) + sum(higher))/(len(lower) + len(higher))\n",
    "    i.update_value(new_val)"
   ]
  },
  {
   "cell_type": "code",
   "execution_count": 6,
   "id": "d0b3421f-8987-4e7c-9a49-06b744a85d0c",
   "metadata": {},
   "outputs": [
    {
     "data": {
      "text/plain": [
       "17712"
      ]
     },
     "execution_count": 6,
     "metadata": {},
     "output_type": "execute_result"
    }
   ],
   "source": [
    "a = [x.value for x in ad if x.name == 'BOLL_AWS_TEMP']\n",
    "len(a)"
   ]
  },
  {
   "cell_type": "markdown",
   "id": "5bc2e019-cfa0-4796-8db7-c654a8335f68",
   "metadata": {},
   "source": [
    "# AWS - LCD differences\n",
    "Gets difference and cum difference for each data instance"
   ]
  },
  {
   "cell_type": "code",
   "execution_count": 7,
   "id": "8a9bef9c-8be0-48c5-bb21-ba86847712ef",
   "metadata": {},
   "outputs": [],
   "source": [
    "boll_a = [x.value for x in ad if x.name == 'BOLL_AWS_TEMP']\n",
    "boll_l = [x.value for x in ad if x.name == 'BOLL_LCD_TEMP']\n",
    "val_b = [x - y for x, y in zip(boll_a, boll_l)]\n",
    "val_bc = np.cumsum(val_b)\n",
    "diff_b = list(zip(times,val_b,val_bc))"
   ]
  },
  {
   "cell_type": "code",
   "execution_count": null,
   "id": "1f329681-4433-4f02-af5c-91bd27f1c5a8",
   "metadata": {},
   "outputs": [],
   "source": []
  },
  {
   "cell_type": "code",
   "execution_count": 8,
   "id": "3b31fc57-c2e1-4e6b-afbf-c02d1d0ec64b",
   "metadata": {},
   "outputs": [],
   "source": [
    "afu_a = [x.value for x in ad if x.name == 'AFU_AWS_TEMP']\n",
    "afu_l = [x.value for x in ad if x.name == 'AFU_LCD_TEMP']\n",
    "val_a = [x - y for x, y in zip(afu_a, afu_l)]\n",
    "val_ac = np.cumsum(val_a)\n",
    "diff_a = list(zip(times,val_a,val_ac))"
   ]
  },
  {
   "cell_type": "code",
   "execution_count": 9,
   "id": "71ee38ca-219f-4154-864d-c85bfd301808",
   "metadata": {},
   "outputs": [
    {
     "name": "stdout",
     "output_type": "stream",
     "text": [
      "17712\n"
     ]
    }
   ],
   "source": [
    "print(len(diff_a))"
   ]
  },
  {
   "cell_type": "code",
   "execution_count": 10,
   "id": "2d7fc162-c633-405e-939c-22400f3035b7",
   "metadata": {},
   "outputs": [],
   "source": [
    "zoll_a = [x.value for x in ad if x.name == 'ZOLL_AWS_TEMP']\n",
    "zoll_l2 = [x.value for x in ad if x.name == 'ZOLL_2m_LCD_TEMP']\n",
    "zoll_l3 = [x.value for x in ad if x.name == 'ZOLL_3m_LCD_TEMP']\n",
    "zoll_ls = [x.value for x in ad if x.name == 'ZOLL_STEVENSON_LCD_TEMP']\n",
    "val_z2 = [x - y for x, y in zip(zoll_a, zoll_l2)]\n",
    "val_z2c = np.cumsum(val_z2)\n",
    "val_z3 = [x - y for x, y in zip(zoll_a, zoll_l3)]\n",
    "val_z3c = np.cumsum(val_z3)\n",
    "val_zs = [x - y for x, y in zip(zoll_a, zoll_ls)]\n",
    "val_zsc = np.cumsum(val_zs)\n",
    "diff_z2 = list(zip(times,val_z2,val_z2c))\n",
    "diff_z3 = list(zip(times,val_z3,val_z3c))\n",
    "diff_zs = list(zip(times,val_zs,val_zsc))"
   ]
  },
  {
   "cell_type": "code",
   "execution_count": 11,
   "id": "812ec75b-e411-4202-ad27-d1ed962d256c",
   "metadata": {},
   "outputs": [],
   "source": [
    "a = val_z2"
   ]
  },
  {
   "cell_type": "code",
   "execution_count": 12,
   "id": "de5be709-faa8-43a0-b7db-287c7517da8a",
   "metadata": {},
   "outputs": [],
   "source": [
    "types = set([x for x in a])"
   ]
  },
  {
   "cell_type": "code",
   "execution_count": 13,
   "id": "c4af946e-dcbc-46dc-858a-d886e55c327e",
   "metadata": {},
   "outputs": [
    {
     "data": {
      "text/plain": [
       "-3.3000000000000007"
      ]
     },
     "execution_count": 13,
     "metadata": {},
     "output_type": "execute_result"
    }
   ],
   "source": [
    "min(types)"
   ]
  },
  {
   "cell_type": "code",
   "execution_count": 26,
   "id": "79191944-07f1-49ed-b57e-d65c58e45431",
   "metadata": {},
   "outputs": [
    {
     "data": {
      "text/plain": [
       "list"
      ]
     },
     "execution_count": 26,
     "metadata": {},
     "output_type": "execute_result"
    }
   ],
   "source": [
    "type(val_z2)"
   ]
  },
  {
   "cell_type": "code",
   "execution_count": 29,
   "id": "6d477e9d-ae58-4eef-9b2a-c6cbcf1627bd",
   "metadata": {},
   "outputs": [
    {
     "data": {
      "text/plain": [
       "-0.3000000000000007"
      ]
     },
     "execution_count": 29,
     "metadata": {},
     "output_type": "execute_result"
    }
   ],
   "source": [
    "val_z2[17000]"
   ]
  },
  {
   "cell_type": "code",
   "execution_count": 24,
   "id": "205a3134-c703-4c7c-ad0c-68556019452a",
   "metadata": {},
   "outputs": [],
   "source": [
    "start = 0\n",
    "mylist = []\n",
    "for i in val_z2:\n",
    "    start = start + i\n",
    "    mylist.append(start)"
   ]
  },
  {
   "cell_type": "code",
   "execution_count": 25,
   "id": "0daf448d-0d8a-44ca-a345-428d6635e75f",
   "metadata": {},
   "outputs": [
    {
     "data": {
      "text/plain": [
       "nan"
      ]
     },
     "execution_count": 25,
     "metadata": {},
     "output_type": "execute_result"
    }
   ],
   "source": [
    "start"
   ]
  },
  {
   "cell_type": "code",
   "execution_count": 17,
   "id": "1693bb82-0125-4a08-a003-3d3e0ce0b061",
   "metadata": {},
   "outputs": [],
   "source": [
    "result = list(itertools.accumulate(a))"
   ]
  },
  {
   "cell_type": "code",
   "execution_count": 18,
   "id": "a25bdda7-ad15-4442-af05-f48a07e5235c",
   "metadata": {},
   "outputs": [],
   "source": [
    "b = list(np.cumsum(a))"
   ]
  },
  {
   "cell_type": "code",
   "execution_count": 19,
   "id": "2d8ee946-c657-4a28-ae9a-200a08f69fa1",
   "metadata": {},
   "outputs": [
    {
     "data": {
      "text/plain": [
       "[nan, nan, nan, nan, nan, nan, nan, nan, nan, nan]"
      ]
     },
     "execution_count": 19,
     "metadata": {},
     "output_type": "execute_result"
    }
   ],
   "source": [
    "result[-10:]"
   ]
  },
  {
   "cell_type": "code",
   "execution_count": null,
   "id": "d89d51c1-9df6-47bc-bf1f-279f4bd8e67a",
   "metadata": {},
   "outputs": [],
   "source": []
  },
  {
   "cell_type": "code",
   "execution_count": 20,
   "id": "9ea27e84-f4a9-4eb5-b3d0-4d437fe84379",
   "metadata": {},
   "outputs": [],
   "source": [
    "df = pd.DataFrame()\n",
    "df['dcs_afu'] = val_ac\n",
    "df['dcs_bol'] = val_bc\n",
    "df['dcs_zol_2m'] = val_z2c\n",
    "df['dcs_zol_3m'] = val_z3c\n",
    "df['dcs_zol_steve'] = val_zsc\n",
    "df['md'] = times"
   ]
  },
  {
   "cell_type": "code",
   "execution_count": 21,
   "id": "57cb5628-3baf-40ce-b107-1cafbe576068",
   "metadata": {},
   "outputs": [
    {
     "data": {
      "text/html": [
       "<div>\n",
       "<style scoped>\n",
       "    .dataframe tbody tr th:only-of-type {\n",
       "        vertical-align: middle;\n",
       "    }\n",
       "\n",
       "    .dataframe tbody tr th {\n",
       "        vertical-align: top;\n",
       "    }\n",
       "\n",
       "    .dataframe thead th {\n",
       "        text-align: right;\n",
       "    }\n",
       "</style>\n",
       "<table border=\"1\" class=\"dataframe\">\n",
       "  <thead>\n",
       "    <tr style=\"text-align: right;\">\n",
       "      <th></th>\n",
       "      <th>dcs_afu</th>\n",
       "      <th>dcs_bol</th>\n",
       "      <th>dcs_zol_2m</th>\n",
       "      <th>dcs_zol_3m</th>\n",
       "      <th>dcs_zol_steve</th>\n",
       "      <th>md</th>\n",
       "    </tr>\n",
       "  </thead>\n",
       "  <tbody>\n",
       "    <tr>\n",
       "      <th>0</th>\n",
       "      <td>0.4</td>\n",
       "      <td>0.6</td>\n",
       "      <td>0.1</td>\n",
       "      <td>0.1</td>\n",
       "      <td>0.1</td>\n",
       "      <td>2018-05-16 00:00:00</td>\n",
       "    </tr>\n",
       "    <tr>\n",
       "      <th>1</th>\n",
       "      <td>0.8</td>\n",
       "      <td>1.0</td>\n",
       "      <td>0.2</td>\n",
       "      <td>0.2</td>\n",
       "      <td>0.2</td>\n",
       "      <td>2018-05-16 00:10:00</td>\n",
       "    </tr>\n",
       "    <tr>\n",
       "      <th>2</th>\n",
       "      <td>1.0</td>\n",
       "      <td>1.9</td>\n",
       "      <td>0.3</td>\n",
       "      <td>0.3</td>\n",
       "      <td>0.3</td>\n",
       "      <td>2018-05-16 00:20:00</td>\n",
       "    </tr>\n",
       "    <tr>\n",
       "      <th>3</th>\n",
       "      <td>1.6</td>\n",
       "      <td>2.6</td>\n",
       "      <td>0.4</td>\n",
       "      <td>0.4</td>\n",
       "      <td>0.4</td>\n",
       "      <td>2018-05-16 00:30:00</td>\n",
       "    </tr>\n",
       "    <tr>\n",
       "      <th>4</th>\n",
       "      <td>2.1</td>\n",
       "      <td>2.9</td>\n",
       "      <td>0.5</td>\n",
       "      <td>0.5</td>\n",
       "      <td>0.5</td>\n",
       "      <td>2018-05-16 00:40:00</td>\n",
       "    </tr>\n",
       "    <tr>\n",
       "      <th>...</th>\n",
       "      <td>...</td>\n",
       "      <td>...</td>\n",
       "      <td>...</td>\n",
       "      <td>...</td>\n",
       "      <td>...</td>\n",
       "      <td>...</td>\n",
       "    </tr>\n",
       "    <tr>\n",
       "      <th>17707</th>\n",
       "      <td>NaN</td>\n",
       "      <td>NaN</td>\n",
       "      <td>NaN</td>\n",
       "      <td>NaN</td>\n",
       "      <td>NaN</td>\n",
       "      <td>2018-09-15 23:10:00</td>\n",
       "    </tr>\n",
       "    <tr>\n",
       "      <th>17708</th>\n",
       "      <td>NaN</td>\n",
       "      <td>NaN</td>\n",
       "      <td>NaN</td>\n",
       "      <td>NaN</td>\n",
       "      <td>NaN</td>\n",
       "      <td>2018-09-15 23:20:00</td>\n",
       "    </tr>\n",
       "    <tr>\n",
       "      <th>17709</th>\n",
       "      <td>NaN</td>\n",
       "      <td>NaN</td>\n",
       "      <td>NaN</td>\n",
       "      <td>NaN</td>\n",
       "      <td>NaN</td>\n",
       "      <td>2018-09-15 23:30:00</td>\n",
       "    </tr>\n",
       "    <tr>\n",
       "      <th>17710</th>\n",
       "      <td>NaN</td>\n",
       "      <td>NaN</td>\n",
       "      <td>NaN</td>\n",
       "      <td>NaN</td>\n",
       "      <td>NaN</td>\n",
       "      <td>2018-09-15 23:40:00</td>\n",
       "    </tr>\n",
       "    <tr>\n",
       "      <th>17711</th>\n",
       "      <td>NaN</td>\n",
       "      <td>NaN</td>\n",
       "      <td>NaN</td>\n",
       "      <td>NaN</td>\n",
       "      <td>NaN</td>\n",
       "      <td>2018-09-15 23:50:00</td>\n",
       "    </tr>\n",
       "  </tbody>\n",
       "</table>\n",
       "<p>17712 rows × 6 columns</p>\n",
       "</div>"
      ],
      "text/plain": [
       "       dcs_afu  dcs_bol  dcs_zol_2m  dcs_zol_3m  dcs_zol_steve  \\\n",
       "0          0.4      0.6         0.1         0.1            0.1   \n",
       "1          0.8      1.0         0.2         0.2            0.2   \n",
       "2          1.0      1.9         0.3         0.3            0.3   \n",
       "3          1.6      2.6         0.4         0.4            0.4   \n",
       "4          2.1      2.9         0.5         0.5            0.5   \n",
       "...        ...      ...         ...         ...            ...   \n",
       "17707      NaN      NaN         NaN         NaN            NaN   \n",
       "17708      NaN      NaN         NaN         NaN            NaN   \n",
       "17709      NaN      NaN         NaN         NaN            NaN   \n",
       "17710      NaN      NaN         NaN         NaN            NaN   \n",
       "17711      NaN      NaN         NaN         NaN            NaN   \n",
       "\n",
       "                       md  \n",
       "0     2018-05-16 00:00:00  \n",
       "1     2018-05-16 00:10:00  \n",
       "2     2018-05-16 00:20:00  \n",
       "3     2018-05-16 00:30:00  \n",
       "4     2018-05-16 00:40:00  \n",
       "...                   ...  \n",
       "17707 2018-09-15 23:10:00  \n",
       "17708 2018-09-15 23:20:00  \n",
       "17709 2018-09-15 23:30:00  \n",
       "17710 2018-09-15 23:40:00  \n",
       "17711 2018-09-15 23:50:00  \n",
       "\n",
       "[17712 rows x 6 columns]"
      ]
     },
     "execution_count": 21,
     "metadata": {},
     "output_type": "execute_result"
    }
   ],
   "source": [
    "df"
   ]
  },
  {
   "cell_type": "code",
   "execution_count": 22,
   "id": "14fa7516-e0ac-43bf-a7dc-6f1b359a9cee",
   "metadata": {},
   "outputs": [],
   "source": [
    "af_ = df.melt('md',value_name = 'cum-diff',var_name = 'station')"
   ]
  },
  {
   "cell_type": "code",
   "execution_count": null,
   "id": "d991e95e-5c0b-49e2-a815-8587fdc3b3ea",
   "metadata": {},
   "outputs": [],
   "source": []
  },
  {
   "cell_type": "code",
   "execution_count": 23,
   "id": "f95f98ce-f09e-4eaf-b85e-062b7f17e650",
   "metadata": {},
   "outputs": [
    {
     "data": {
      "image/png": "[encoded data removed]",
      "text/plain": [
       "<Figure size 1000x600 with 1 Axes>"
      ]
     },
     "metadata": {},
     "output_type": "display_data"
    }
   ],
   "source": [
    "plt.rcParams.update(plt.rcParamsDefault)\n",
    "%matplotlib inline\n",
    "plt.style.use('seaborn-whitegrid')\n",
    "\n",
    "fig,axs = plt.subplots(figsize= (10,6))\n",
    "sns.lineplot(data = af_, x = af_.md,y='cum-diff', hue = 'station')\n",
    "plt.xlabel(\"Sensor Reading Time\")\n",
    "plt.ylabel(\"Cumulative Temp Difference\")\n",
    "plt.title(\"Cumulative difference in station lcd vs aws for 2018\")\n",
    "plt.tight_layout()\n",
    "loc = AutoLocator()\n",
    "axs.xaxis.set_major_locator(loc)\n",
    "plt.savefig(F'{figdir}/cum-temp-diffs-new-classes.png')\n",
    "plt.show()"
   ]
  },
  {
   "cell_type": "code",
   "execution_count": null,
   "id": "1126447a-f3ec-4c20-a0b2-05c2095ca3ee",
   "metadata": {},
   "outputs": [],
   "source": []
  }
 ],
 "metadata": {
  "kernelspec": {
   "display_name": "mas-clas",
   "language": "python",
   "name": "master-class"
  },
  "language_info": {
   "codemirror_mode": {
    "name": "ipython",
    "version": 3
   },
   "file_extension": ".py",
   "mimetype": "text/x-python",
   "name": "python",
   "nbconvert_exporter": "python",
   "pygments_lexer": "ipython3",
   "version": "3.9.12"
  }
 },
 "nbformat": 4,
 "nbformat_minor": 5
}
