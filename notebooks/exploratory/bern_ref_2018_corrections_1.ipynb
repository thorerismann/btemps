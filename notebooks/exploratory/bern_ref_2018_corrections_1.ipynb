{
 "cells": [
  {
   "cell_type": "markdown",
   "id": "390e73f6-208e-41cd-808e-04855720bdb2",
   "metadata": {},
   "source": [
    "# Data Corrections\n",
    "\n",
    "This notebook loads the 2018 reference data and applies needed corrections for:\n",
    "1) Bad values in the AWS readings\n",
    "2) Missing values in LCD data due to sensor readings\n",
    "\n",
    "The data is saved in the data/interim folder"
   ]
  },
  {
   "cell_type": "markdown",
   "id": "b0ac171e-373c-4ebf-bf77-42f69883e4f6",
   "metadata": {},
   "source": [
    "## Bad values in AWS readings\n",
    "They are coded as -9999 and as such can be easily identified. The correction is done by applying the mean of the 5 previous and 5 next values for the same sensor defined in the `Wrangler.mean_fix()` fuction. Thus, for every wrong value $value_{i}$ , we have a new value:  \n",
    "$$ value_{i} = mean_{i} =  \\frac{value_{i-5} +  ... + value_{i-1} + value_{i+1} + ... + value_{i+5}}{10}$$"
   ]
  },
  {
   "cell_type": "code",
   "execution_count": 1,
   "id": "e9913a84-c63b-4997-a4b0-695eab1efb6b",
   "metadata": {},
   "outputs": [],
   "source": [
    "# implementation code"
   ]
  },
  {
   "cell_type": "markdown",
   "id": "df6567a2-a167-45fe-be5e-553129ce9e0f",
   "metadata": {},
   "source": [
    "Missing values in LCD data due to sensor readings.\n",
    "\n",
    "When the sensors are read out, the readings for 30 minutes before and after the reading are removed from the data set. These values are interpolated from the other sensors according to the formula: $$Formula$$"
   ]
  },
  {
   "cell_type": "code",
   "execution_count": null,
   "id": "0a280bbe-2fb7-4695-a87e-3ded216b53f8",
   "metadata": {},
   "outputs": [],
   "source": [
    "# implementation code"
   ]
  },
  {
   "cell_type": "code",
   "execution_count": null,
   "id": "4e434a5b-433d-4122-98df-f2df90e24f06",
   "metadata": {},
   "outputs": [],
   "source": [
    "# save data to interim folder"
   ]
  }
 ],
 "metadata": {
  "kernelspec": {
   "display_name": "Python [conda env:ma] *",
   "language": "python",
   "name": "conda-env-ma-py"
  },
  "language_info": {
   "codemirror_mode": {
    "name": "ipython",
    "version": 3
   },
   "file_extension": ".py",
   "mimetype": "text/x-python",
   "name": "python",
   "nbconvert_exporter": "python",
   "pygments_lexer": "ipython3",
   "version": "3.10.5"
  }
 },
 "nbformat": 4,
 "nbformat_minor": 5
}
