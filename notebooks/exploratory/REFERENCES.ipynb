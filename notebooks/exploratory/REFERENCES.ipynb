{
 "cells": [
  {
   "cell_type": "markdown",
   "id": "6a8db5a7-f0e2-4ea5-9a0d-ce1901a7840c",
   "metadata": {},
   "source": [
    "# compares other data sources, beginning with sensorbox\n",
    "\n",
    "https://familie-hoffmann.me/"
   ]
  },
  {
   "cell_type": "markdown",
   "id": "502b212b-ae13-4dfa-ad6c-a6fad4425902",
   "metadata": {},
   "source": [
    "## Data Recovery UNIBE Biel\n",
    "UNIBE did a number of experiments and works on atmospheric variables in Biel in the 80s. Some of these measurements of air temperature and humidity may be helpful for the 2022 analysis.\n",
    "\n",
    "Works: *Untersuchung zum ausbreitungs - klima der regions biel\"* by Ralph Rickli in 1988. ; Feldexperiment in Raume Biel- Datenkatalog https://ubbern.swisscovery.slsp.ch/permalink/41SLSP_UBE/17e6d97/alma99116928975105511\n",
    "\n",
    "The actual data is missing and this data is entered by hand from the compiled results from \n",
    "\n",
    "### measuring campaigns\n",
    "These used vertical and horizontal temperature profiles.\n",
    "\n",
    "Vertical on 14.06.1983\n",
    "\n",
    "Messfahrten 15/16 Juli 1983, 13.06,14.06, 27.07\n",
    "\n",
    "### Fixed stations.\n",
    "There were three fixed stations around Biel with the mean, max and min monthly values available for most may- sep months. I did not add heiztage.\n",
    "\n",
    "Within the report a number of elements are missing, such as:\n",
    "* the exact location of one of the three year long temperature measruing sties (roughly given on map, but all metadata description omitted with no reason given)\n",
    "* a strange number of missing values during the summer for mean values and some min values. Reasons not specified.\n",
    "* thermometer brand not specified, relative humidity specified as \"relativer Feuchte Thermohygrogrpahen der Firma HAENNI\"\n",
    "\n"
   ]
  },
  {
   "cell_type": "code",
   "execution_count": 1,
   "id": "8530fa71",
   "metadata": {},
   "outputs": [],
   "source": [
    "# archival fixed stations\n",
    "metadata_site = {'maison': [(\"584'300\",\"21'600\"),720,\"no comment given\"],\n",
    "            'boz':[(\"587'940\",\"222'800\"),441,\"frei von einscharänkenden Randbedingungn...grasbewachsenen Parzelle imiten offenen Ackerlands and umfasste wind-und temperaturaufzeichnung\"],\n",
    "            'vogel':[(\"nan\",\"nan\"),\"nan\",\"nan\"]}\n",
    "months = [\"04\",\"05\",\"06\",\"07\",\"08\",\"09\",\"10\"]\n",
    "maison_blanche_mean = [8.5,10.7,14.3,15.1,17.3,\"nan\",\"nan\"]\n",
    "vogelsang_mean = [10.3,12.2,16.1,\"nan\",\"nan\",14.7,9.4]\n",
    "boezingenmoos_mean = [10.2,12.1,16.1,16.5,17.9,14.5,9.2]\n",
    "maison_min = [-1.2,0.6,6.5,6.2,6.2,3.1,'nan']\n",
    "vogel_min = [0.7,2.5,3.7,8.6,'nan',4.4,0.9]\n",
    "boz_min = [-1.9,0.6,6.5,6.2,6.2,3.1,-0.9]\n",
    "maison_max = [18.9,22.3,25.5,24.4,26.4,20.3,18.4]\n",
    "vogel_max = [21.8,24.3,27.9,27.7,29.6,22.4,20.5]\n",
    "boz_max = [22.1,25.3,29.6,28.6,31.2,24.1,21.8,]\n",
    "sensor_type = \"English hut\"\n",
    "sensor_height = 2\n",
    "year = 1981\n",
    "\n",
    "\n",
    "# numbers from table 1 https://www.schweizerbart.de/papers/metz/detail/prepub/100667/Intercomparison_and_combination_of_low_cost_urban_?af=crossref"
   ]
  },
  {
   "cell_type": "code",
   "execution_count": null,
   "id": "c7be6379-326c-4633-be3d-3a2095054a49",
   "metadata": {},
   "outputs": [],
   "source": []
  },
  {
   "cell_type": "markdown",
   "id": "25c0490b-98ae-4138-bd36-017e03537aa8",
   "metadata": {},
   "source": [
    "# Open Sense Map\n",
    "\n",
    "The open sense map has far fewer observations in Switzerland, but still could provide some useful data. More based in Southern Germany by the looks of it.\n",
    "\n",
    "## Additional rural reference\n",
    "There is one particular station with good metadata and a good position for another useful rural reference.\n",
    "https://familie-hoffmann.me/\n",
    "https://opensensemap.org/download\n",
    "\n",
    "I need to contact the people behind it, try to set up a \n",
    "\n",
    "\n"
   ]
  },
  {
   "cell_type": "code",
   "execution_count": null,
   "id": "caaaca1c-3db5-4cf0-92ba-8a90111a6d00",
   "metadata": {},
   "outputs": [],
   "source": []
  },
  {
   "cell_type": "markdown",
   "id": "5fb405c2-7174-49d1-bff2-8ed028be748c",
   "metadata": {},
   "source": [
    "## Netatmo Stations\n",
    "\n",
    "### (TO BE DONE ON THE LCDS)\n",
    "\n",
    "In order to assess the accuracy of netatmo outdoor T sensors, comparative measurements were conducted in a climate chamber. We analysed the accuracy of eight sensors for seven pre-defined temperature levels between 30 and 0 °C. These levels were set inside the climate chamber; each 5 h long including the change in T to the next level. This cycle was run twice. Original data of the netatmo sensors at approximately five-minute intervals were downloaded from the web-interface and set to the nearest full minute to be compared to 1-min values of a reference sensor (Vaisala HMP155, accuracy: ± 0.28 K in range 0–40 °C). We used the measurements of the last 2 h of each pre-defined temperature level to ensure that all sensors were at the desired temperature level. Fig. 2 (left) displays mean differences between T as measured by netatmo sensors and the reference sensor, showing that all eight netatmo outdoor sensors fulfilled the manufacturer's specified accuracy of ± 0.3 K at all seven temperature levels except the lowest temperature at 0 °C. Here, four sensors exhibited a slight warm bias close to 0.5 K. \n",
    "\n",
    "https://www.sciencedirect.com/science/article/pii/S2212095517300068\n",
    "\n",
    "was this done?\n",
    "e. To circumvent this issue, we recom-\n",
    "mend that future studies using BCY measurements carry\n",
    "out direct comparison measurements with reference data\n",
    "from AWS over an extended period allowing to robustly\n",
    "quantify the biases.\n",
    "\n",
    "The cities where Tair from Netatmo CWS were stud-\n",
    "ied (Chapman et al., 2017, Fenner et al., 2017; Napoly\n",
    "et al., 2018) are much larger and their land use and to-\n",
    "pography is more homogeneous than in Bern (e.g., Lon-\n",
    "don, Paris, Berlin). It seems that in small cities with a\n",
    "complex topography and perhaps generally, further mea-\n",
    "sures are needed to increase the usability of Netatmo\n",
    "CWS\n",
    "\n",
    "Further, quality control, stronger empha-\n",
    "sis on metadata, or correction through reference stations\n",
    "would increase the applicability of CWS Tair measure-\n",
    "ments. More studies on CWS observations of the urban\n",
    "atmosphere in small cities with complex topography and\n",
    "heterogeneous LCZ distribution are needed to fully de-\n",
    "velop their potential. \n",
    "\n",
    "https://www.schweizerbart.de/papers/metz/detail/prepub/100667/Intercomparison_and_combination_of_low_cost_urban_?af=crossref\n",
    "\n"
   ]
  },
  {
   "cell_type": "markdown",
   "id": "fbe3fc53-5d70-4b5d-8175-dad9e415e90a",
   "metadata": {},
   "source": [
    "# Netatmo Stations\n",
    "\n",
    "https://weathermap.netatmo.com/\n",
    "\n"
   ]
  },
  {
   "cell_type": "markdown",
   "id": "783eb37d-1941-4313-b339-d5632bbae9f8",
   "metadata": {},
   "source": [
    "# to read\n",
    "\n",
    "https://journals.ametsoc.org/view/journals/atot/25/11/2008jtecha1046_1.xml"
   ]
  },
  {
   "cell_type": "markdown",
   "id": "e1272c8e-dbbf-4d93-95a4-017c9f669b72",
   "metadata": {},
   "source": [
    "## Sensor Class"
   ]
  },
  {
   "cell_type": "code",
   "execution_count": null,
   "id": "b898f217-86fe-474d-815a-57ea5d1b64e4",
   "metadata": {},
   "outputs": [
    {
     "ename": "SyntaxError",
     "evalue": "invalid syntax (3115464862.py, line 3)",
     "output_type": "error",
     "traceback": [
      "\u001b[0;36m  Input \u001b[0;32mIn [2]\u001b[0;36m\u001b[0m\n\u001b[0;31m    geo = {'city':'Biel', 'coord':(\"584'300\",\"21'600\"),'georef' = 'unknown', 'elevation':430, 'geo_att':['mountain','some more data']}\u001b[0m\n\u001b[0m                                                                ^\u001b[0m\n\u001b[0;31mSyntaxError\u001b[0m\u001b[0;31m:\u001b[0m invalid syntax\n"
     ]
    }
   ],
   "source": [
    "# Sensor Attributes\n",
    "base = {'project':'biel-temps', 'name':\"Log_7\", 'date_range':('08.07.2022','10.08.2022'), 'sensor_type':'LCD', 'measure':['temp']} \n",
    "geo = {'city':'Biel', 'coord':(\"584'300\",\"21'600\"),'georef' = 'unknown', 'elevation':430, 'geo_att':['mountain','some more data']}\n",
    "details = {'manu': 'Thermometers LLC', 'serial_num':'282938dfg28', 'year':2005, 'years_used':4, 'shelter':'LCD_s', 'height':3, 'skvf':'a_value', 'metadata':['some text about the site']}\n",
    "attributes = [base,geo,details]\n",
    "attributes"
   ]
  },
  {
   "cell_type": "code",
   "execution_count": null,
   "id": "21ca075b-7e47-4a20-a390-eb8a68c596ab",
   "metadata": {},
   "outputs": [],
   "source": [
    "metadata_site = {'maison': [(\"584'300\",\"21'600\"),720,\"no comment given\"],\n",
    "            'boz':[(\"587'940\",\"222'800\"),441,\"frei von einscharänkenden Randbedingungn...grasbewachsenen Parzelle imiten offenen Ackerlands and umfasste wind-und temperaturaufzeichnung\"],\n",
    "            'vogel':[(\"nan\",\"nan\"),\"nan\",\"nan\"]}\n",
    "months = [\"04\",\"05\",\"06\",\"07\",\"08\",\"09\",\"10\"]\n",
    "maison_blanche_mean = [8.5,10.7,14.3,15.1,17.3,\"nan\",\"nan\"]\n",
    "vogelsang_mean = [10.3,12.2,16.1,\"nan\",\"nan\",14.7,9.4]\n",
    "boezingenmoos_mean = [10.2,12.1,16.1,16.5,17.9,14.5,9.2]\n",
    "maison_min = [-1.2,0.6,6.5,6.2,6.2,3.1,'nan']\n",
    "vogel_min = [0.7,2.5,3.7,8.6,'nan',4.4,0.9]\n",
    "boz_min = [-1.9,0.6,6.5,6.2,6.2,3.1,-0.9]\n",
    "maison_max = [18.9,22.3,25.5,24.4,26.4,20.3,18.4]\n",
    "vogel_max = [21.8,24.3,27.9,27.7,29.6,22.4,20.5]\n",
    "boz_max = [22.1,25.3,29.6,28.6,31.2,24.1,21.8,]\n",
    "sensor_type = \"English hut\"\n",
    "sensor_height = 2\n",
    "year = 1981\n",
    "sensor_model = \"uknown\"\n",
    "sensor_res = 0.14\n",
    "sensor_acc = \"+- 0.53\"\n",
    "\n",
    "\n",
    "base = {'project':'biel-temps', 'name':\"maison_blanche\", 'date_range':('1983-04','1983-10'), 'sensor_type':'archive_fixed', 'measure':['temp_mean','temp_max','temp_min']} \n",
    "geo = {'city':'Biel', 'coord':(\"584'300\",\"21'600\"), 'geo_ref':'old swiss - unknown', 'elevation':720, 'geo_att':None}\n",
    "details = {'manu': 'Thermometers LLC', 'serial_num':None, 'year':None, 'years_used':None, 'shelter':'English Hut', 'height':2, 'skvf':None, 'metadata':['no comment given']}\n",
    "measures = {'accuracy':'+/- 0.53', 'resolution':0.14, 'other':None}\n",
    "attributes_unibe = [base,geo,details,measures]"
   ]
  },
  {
   "cell_type": "code",
   "execution_count": null,
   "id": "383a8ddd-46ea-418f-9961-cb99b285d465",
   "metadata": {},
   "outputs": [],
   "source": [
    "import pandas as pd\n",
    "import os\n",
    "maison=pd.DataFrame([maison_min,maison_max,maison_blanche_mean],columns = ['apr','may','jun','jul','aug','sep','oct'],index = ['min','max','mean'])\n",
    "vogel=pd.DataFrame([vogel_min,vogel_max,vogelsang_mean],columns = ['apr','may','jun','jul','aug','sep','oct'],index = ['min','max','mean'])\n",
    "boz=pd.DataFrame([boz_min,boz_max,boezingenmoos_mean],columns = ['apr','may','jun','jul','aug','sep','oct'],index = ['min','max','mean'])\n",
    "data_arch = [maison,vogel,boz]\n",
    "writedir = os.path.abspath(os.path.join(os.path.dirname(thedir), '..', 'data/interim'))\n",
    "data_lcd = pd.read_csv(F'{write_dir}/alldata.csv')"
   ]
  }
 ],
 "metadata": {
  "kernelspec": {
   "display_name": "Python 3 (ipykernel)",
   "language": "python",
   "name": "python3"
  },
  "language_info": {
   "codemirror_mode": {
    "name": "ipython",
    "version": 3
   },
   "file_extension": ".py",
   "mimetype": "text/x-python",
   "name": "python",
   "nbconvert_exporter": "python",
   "pygments_lexer": "ipython3",
   "version": "3.10.5"
  }
 },
 "nbformat": 4,
 "nbformat_minor": 5
}
