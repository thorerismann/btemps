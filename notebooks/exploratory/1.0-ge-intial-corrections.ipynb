{
 "cells": [
  {
   "cell_type": "code",
   "execution_count": 1,
   "id": "87dca892-f9a3-4569-ae01-deb7f4433b61",
   "metadata": {},
   "outputs": [],
   "source": [
    "import pandas as pd\n",
    "import os\n",
    "import seaborn as sns\n",
    "import datetime as dt\n",
    "import matplotlib.pyplot as plt\n",
    "import matplotlib.ticker as ticker\n",
    "\n",
    "thedir = os.getcwd()\n",
    "datadir = os.path.abspath(os.path.join(os.path.dirname(thedir), '..', 'data/raw'))\n",
    "writedir = os.path.abspath(os.path.join(os.path.dirname(thedir), '..', 'data/interim'))\n",
    "figdir=os.path.abspath(os.path.join(os.path.dirname(thedir), '..', 'figures'))"
   ]
  },
  {
   "cell_type": "markdown",
   "id": "9cd30012-2964-4e7e-a2a9-ecf363bddb2f",
   "metadata": {},
   "source": [
    ">Since the height above sea level was not used as a criterion to choose the LCD locations, we incorporated the influence of the altitude directly with a dry-adiabatic decrease of 1 K per 100 m (Salvato et al., 2003), which was chosen since heatwave periods with a rather dry atmosphere were analyzed. This altitude corrected temperature (to the height of Bern-Zollikofen, 553 m.a.s.l.) is further referred as corrected temperature. The mean UHI intensity per heatwave was then used as the response variable in the three resulting models."
   ]
  },
  {
   "cell_type": "code",
   "execution_count": 3,
   "id": "a5069502-9591-4e91-bc47-bdf78dc6c278",
   "metadata": {},
   "outputs": [],
   "source": [
    "# elevation corrections (log 7 is reference)\n",
    "\n",
    "elevations = {\"Log_2\":430, \"Log_1\":432,\"Log_3\":433,\"Log_4\":430,\"Log_5\":439,\"Log_6\":437,\"Log_7\":430}\n",
    "\n",
    "# sensor height corrections (3m sensors, 2m height of ref measurement\n",
    "df = pd.read_csv(F'{datadir}/2018_Stadtklimamessnetz_Rohdaten-2m-3m-ref.csv')\n",
    "\n",
    "# get difference and squared difference\n",
    "df['diff_'] = df.Log_98_REF_ZOLL_2m - df.Log_99_ZOLL_3m\n",
    "df['sq_diff'] = (df.Log_98_REF_ZOLL_2m - df.Log_99_ZOLL_3m)**2\n",
    "\n",
    "diff = df.diff_.sum()\n",
    "sqdiff = df.sq_diff.sum()\n",
    "diff/len(df)\n",
    "sqdiff/len(df)"
   ]
  },
  {
   "cell_type": "code",
   "execution_count": 14,
   "id": "196fec31-9b0f-48f0-ab0a-d27411f2b320",
   "metadata": {},
   "outputs": [],
   "source": []
  },
  {
   "cell_type": "code",
   "execution_count": 17,
   "id": "90fcd7a2-8850-4b22-9ae2-0c24627679e9",
   "metadata": {},
   "outputs": [
    {
     "data": {
      "text/plain": [
       "-0.04980381944444445"
      ]
     },
     "execution_count": 17,
     "metadata": {},
     "output_type": "execute_result"
    }
   ],
   "source": []
  },
  {
   "cell_type": "code",
   "execution_count": 18,
   "id": "fb88b9de-8026-45f0-8a1a-fc4823f09f1b",
   "metadata": {},
   "outputs": [
    {
     "data": {
      "text/plain": [
       "0.07114546734991038"
      ]
     },
     "execution_count": 18,
     "metadata": {},
     "output_type": "execute_result"
    }
   ],
   "source": []
  },
  {
   "cell_type": "code",
   "execution_count": null,
   "id": "143d8871-9a5b-4dc1-9e23-ea8c77ec1e5d",
   "metadata": {},
   "outputs": [],
   "source": []
  },
  {
   "cell_type": "code",
   "execution_count": null,
   "id": "028e6cfb-6dca-4984-be41-1dacf14ef797",
   "metadata": {},
   "outputs": [],
   "source": []
  }
 ],
 "metadata": {
  "kernelspec": {
   "display_name": "Python [conda env:ma] *",
   "language": "python",
   "name": "conda-env-ma-py"
  },
  "language_info": {
   "codemirror_mode": {
    "name": "ipython",
    "version": 3
   },
   "file_extension": ".py",
   "mimetype": "text/x-python",
   "name": "python",
   "nbconvert_exporter": "python",
   "pygments_lexer": "ipython3",
   "version": "3.10.5"
  }
 },
 "nbformat": 4,
 "nbformat_minor": 5
}
